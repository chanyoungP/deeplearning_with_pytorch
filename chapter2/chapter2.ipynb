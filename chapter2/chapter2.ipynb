{
 "cells": [
  {
   "cell_type": "markdown",
   "id": "ca8baa6e",
   "metadata": {},
   "source": [
    "## 딥러닝 파이토치 교과서 \n",
    "### chapter 2  \n",
    "#### 파이토치 기초 문법"
   ]
  },
  {
   "cell_type": "markdown",
   "id": "37df3362",
   "metadata": {},
   "source": [
    "#### 텐서 생성 및 변환"
   ]
  },
  {
   "cell_type": "code",
   "execution_count": 1,
   "id": "336fd14e",
   "metadata": {},
   "outputs": [
    {
     "name": "stdout",
     "output_type": "stream",
     "text": [
      "tensor([[1, 2],\n",
      "        [3, 4]])\n",
      "tensor([[1, 2],\n",
      "        [3, 4]], device='cuda:0')\n",
      "tensor([[1., 2.],\n",
      "        [3., 4.]], dtype=torch.float64)\n",
      "[[1 2]\n",
      " [3 4]]\n",
      "[[1 2]\n",
      " [3 4]]\n"
     ]
    }
   ],
   "source": [
    "import torch\n",
    "print(torch.tensor([[1,2],[3,4]])) # 2차원 형태의 텐서 생성 \n",
    "print(torch.tensor([[1,2],[3,4]], device = \"cuda:0\")) # gpu에 텐서 생성 \n",
    "print(torch.tensor([[1,2],[3,4]],dtype = torch.float64)) # dtype을 이용하여 텐서 생성\n",
    "\n",
    "temp = torch.tensor([[1,2],[3,4]])\n",
    "print(temp.numpy()) # tensor를 넘파이 배열로 변환 \n",
    "\n",
    "temp = torch.tensor([[1,2],[3,4]],device = \"cuda:0\")\n",
    "print(temp.to(\"cpu\").numpy()) #gpu상의 텐서를 cpu의 텐서로 변환한 후 넘파이 배열로 변환"
   ]
  },
  {
   "cell_type": "markdown",
   "id": "a2c86079",
   "metadata": {},
   "source": [
    "#### 텐서의 인덱스 조작"
   ]
  },
  {
   "cell_type": "code",
   "execution_count": 2,
   "id": "918e92be",
   "metadata": {},
   "outputs": [
    {
     "name": "stdout",
     "output_type": "stream",
     "text": [
      "tensor(1.) tensor(2.) tensor(7.)\n",
      "--------------------\n",
      "tensor([3., 4., 5.]) tensor([5., 6.])\n"
     ]
    }
   ],
   "source": [
    "temp = torch.FloatTensor([1,2,3,4,5,6,7]) #1차원 벡터 생성\n",
    "print(temp[0],temp[1],temp[-1]) # 인덱스로 접근 \n",
    "print(\"--------------------\") \n",
    "print(temp[2:5],temp[4:-1]) #슬라이스로 접근 "
   ]
  },
  {
   "cell_type": "markdown",
   "id": "e7d78c23",
   "metadata": {},
   "source": [
    "#### 텐서 연산 및 차원 조작"
   ]
  },
  {
   "cell_type": "code",
   "execution_count": 3,
   "id": "09f9353e",
   "metadata": {},
   "outputs": [
    {
     "name": "stdout",
     "output_type": "stream",
     "text": [
      "tensor([2, 2, 3])\n"
     ]
    }
   ],
   "source": [
    "v = torch.tensor([1,2,3]) \n",
    "w = torch.tensor([3,4,6]) \n",
    "\n",
    "print(w - v)"
   ]
  },
  {
   "cell_type": "code",
   "execution_count": null,
   "id": "0367b5fe",
   "metadata": {},
   "outputs": [],
   "source": []
  }
 ],
 "metadata": {
  "kernelspec": {
   "display_name": "nas_env",
   "language": "python",
   "name": "nas_env"
  },
  "language_info": {
   "codemirror_mode": {
    "name": "ipython",
    "version": 3
   },
   "file_extension": ".py",
   "mimetype": "text/x-python",
   "name": "python",
   "nbconvert_exporter": "python",
   "pygments_lexer": "ipython3",
   "version": "3.7.2"
  }
 },
 "nbformat": 4,
 "nbformat_minor": 5
}
