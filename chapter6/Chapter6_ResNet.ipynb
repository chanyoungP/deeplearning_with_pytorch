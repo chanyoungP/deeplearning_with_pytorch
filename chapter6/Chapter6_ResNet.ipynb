{
 "cells": [
  {
   "cell_type": "markdown",
   "id": "67f171ed",
   "metadata": {},
   "source": [
    "### 필요한 라이브러리 호출"
   ]
  },
  {
   "cell_type": "code",
   "execution_count": null,
   "id": "e52c0965",
   "metadata": {},
   "outputs": [],
   "source": []
  },
  {
   "cell_type": "markdown",
   "id": "ed5c30d9",
   "metadata": {},
   "source": [
    "### 이미지 데이터 전처리"
   ]
  },
  {
   "cell_type": "code",
   "execution_count": null,
   "id": "a1553e8e",
   "metadata": {},
   "outputs": [],
   "source": []
  },
  {
   "cell_type": "markdown",
   "id": "e5f1be81",
   "metadata": {},
   "source": [
    "### 변수에 대한 값 정의"
   ]
  },
  {
   "cell_type": "code",
   "execution_count": null,
   "id": "44809718",
   "metadata": {},
   "outputs": [],
   "source": []
  },
  {
   "cell_type": "markdown",
   "id": "b1ca717b",
   "metadata": {},
   "source": [
    "### 훈련과 테스트 데이터 셋 불러오기 "
   ]
  },
  {
   "cell_type": "code",
   "execution_count": null,
   "id": "ed8975e2",
   "metadata": {},
   "outputs": [],
   "source": []
  },
  {
   "cell_type": "markdown",
   "id": "e3a9fd4c",
   "metadata": {},
   "source": [
    "### 데이터셋을 훈련 검증 테스트 용도로 분리}"
   ]
  },
  {
   "cell_type": "code",
   "execution_count": null,
   "id": "80870799",
   "metadata": {},
   "outputs": [],
   "source": []
  },
  {
   "cell_type": "markdown",
   "id": "155fc0e2",
   "metadata": {},
   "source": [
    "### 이미지에 대한 레이블 구분"
   ]
  },
  {
   "cell_type": "code",
   "execution_count": null,
   "id": "c0784dda",
   "metadata": {},
   "outputs": [],
   "source": []
  },
  {
   "cell_type": "markdown",
   "id": "a2264410",
   "metadata": {},
   "source": [
    "### 이미지 데이터셋 정의"
   ]
  },
  {
   "cell_type": "code",
   "execution_count": null,
   "id": "6bdb6748",
   "metadata": {},
   "outputs": [],
   "source": []
  },
  {
   "cell_type": "markdown",
   "id": "c047a7ff",
   "metadata": {},
   "source": [
    "### 데이터셋의 데이터를 메모리로 불러오기"
   ]
  },
  {
   "cell_type": "code",
   "execution_count": null,
   "id": "9cc4a4e5",
   "metadata": {},
   "outputs": [],
   "source": []
  },
  {
   "cell_type": "markdown",
   "id": "a7edc076",
   "metadata": {},
   "source": [
    "### 기본 블록 정의"
   ]
  },
  {
   "cell_type": "code",
   "execution_count": null,
   "id": "ab469cf9",
   "metadata": {},
   "outputs": [],
   "source": []
  },
  {
   "cell_type": "markdown",
   "id": "eb2ecb42",
   "metadata": {},
   "source": [
    "### 병목 블록 정의"
   ]
  },
  {
   "cell_type": "code",
   "execution_count": null,
   "id": "95d47c52",
   "metadata": {},
   "outputs": [],
   "source": []
  },
  {
   "cell_type": "markdown",
   "id": "bb74ae21",
   "metadata": {},
   "source": [
    "### ResNet 모델 네트워크 "
   ]
  },
  {
   "cell_type": "code",
   "execution_count": null,
   "id": "5453848e",
   "metadata": {},
   "outputs": [],
   "source": []
  },
  {
   "cell_type": "markdown",
   "id": "c4837e45",
   "metadata": {},
   "source": [
    "### ResNetConfig 정의 "
   ]
  },
  {
   "cell_type": "code",
   "execution_count": null,
   "id": "8dd5b25a",
   "metadata": {},
   "outputs": [],
   "source": []
  },
  {
   "cell_type": "markdown",
   "id": "63a4e0ae",
   "metadata": {},
   "source": [
    "### 기본 블록을 사용하여 ResNetConfig 정의"
   ]
  },
  {
   "cell_type": "code",
   "execution_count": null,
   "id": "d2b07b2c",
   "metadata": {},
   "outputs": [],
   "source": []
  },
  {
   "cell_type": "markdown",
   "id": "49319afc",
   "metadata": {},
   "source": [
    "### 병목 블록을 사용하여 ResNetConfig 정의 "
   ]
  },
  {
   "cell_type": "code",
   "execution_count": null,
   "id": "4a5f68fe",
   "metadata": {},
   "outputs": [],
   "source": []
  },
  {
   "cell_type": "markdown",
   "id": "8834f9f0",
   "metadata": {},
   "source": [
    "### 사전 훈련된 ResNet 모델 사용 "
   ]
  },
  {
   "cell_type": "code",
   "execution_count": null,
   "id": "ac7e363e",
   "metadata": {},
   "outputs": [],
   "source": []
  },
  {
   "cell_type": "markdown",
   "id": "145cd77f",
   "metadata": {},
   "source": [
    "### 사전 훈련 네트워크 확인"
   ]
  },
  {
   "cell_type": "code",
   "execution_count": null,
   "id": "f83097bf",
   "metadata": {},
   "outputs": [],
   "source": []
  },
  {
   "cell_type": "markdown",
   "id": "765d3e3b",
   "metadata": {},
   "source": [
    "### ResNet50 config 를 사용한 ResNet 모델 사용"
   ]
  },
  {
   "cell_type": "code",
   "execution_count": null,
   "id": "60b347e5",
   "metadata": {},
   "outputs": [],
   "source": []
  },
  {
   "cell_type": "markdown",
   "id": "b83a9282",
   "metadata": {},
   "source": [
    "### 옵티마이저 및 손실함수 정의"
   ]
  },
  {
   "cell_type": "code",
   "execution_count": null,
   "id": "facef212",
   "metadata": {},
   "outputs": [],
   "source": []
  },
  {
   "cell_type": "markdown",
   "id": "3c8ad685",
   "metadata": {},
   "source": [
    "### 모델 학습 정확도 측정 함수 정의"
   ]
  },
  {
   "cell_type": "code",
   "execution_count": null,
   "id": "2e592777",
   "metadata": {},
   "outputs": [],
   "source": []
  },
  {
   "cell_type": "markdown",
   "id": "8ab6aa34",
   "metadata": {},
   "source": [
    "### 모델 학습 함수 정의"
   ]
  },
  {
   "cell_type": "code",
   "execution_count": null,
   "id": "9740134b",
   "metadata": {},
   "outputs": [],
   "source": []
  },
  {
   "cell_type": "markdown",
   "id": "f3f97ca2",
   "metadata": {},
   "source": [
    "### 모델 평가 함수 정의"
   ]
  },
  {
   "cell_type": "code",
   "execution_count": null,
   "id": "e73313f5",
   "metadata": {},
   "outputs": [],
   "source": []
  },
  {
   "cell_type": "markdown",
   "id": "59f8c129",
   "metadata": {},
   "source": [
    "### 모델 학습 시간 측정 함수 정의"
   ]
  },
  {
   "cell_type": "code",
   "execution_count": null,
   "id": "94aedc1d",
   "metadata": {},
   "outputs": [],
   "source": []
  },
  {
   "cell_type": "markdown",
   "id": "e9dd8380",
   "metadata": {},
   "source": [
    "### 모델 학습 "
   ]
  },
  {
   "cell_type": "code",
   "execution_count": null,
   "id": "938b70d0",
   "metadata": {},
   "outputs": [],
   "source": []
  },
  {
   "cell_type": "markdown",
   "id": "4f386f38",
   "metadata": {},
   "source": [
    "### 테스트 데이터셋을 이용한 모델 예측"
   ]
  },
  {
   "cell_type": "code",
   "execution_count": null,
   "id": "4ef9b981",
   "metadata": {},
   "outputs": [],
   "source": []
  },
  {
   "cell_type": "markdown",
   "id": "b394bf99",
   "metadata": {},
   "source": [
    "### 모델 예측에 대한 결과 출력"
   ]
  },
  {
   "cell_type": "code",
   "execution_count": null,
   "id": "94bb82e8",
   "metadata": {},
   "outputs": [],
   "source": []
  }
 ],
 "metadata": {
  "kernelspec": {
   "display_name": "Python 3 (ipykernel)",
   "language": "python",
   "name": "python3"
  },
  "language_info": {
   "codemirror_mode": {
    "name": "ipython",
    "version": 3
   },
   "file_extension": ".py",
   "mimetype": "text/x-python",
   "name": "python",
   "nbconvert_exporter": "python",
   "pygments_lexer": "ipython3",
   "version": "3.7.2"
  }
 },
 "nbformat": 4,
 "nbformat_minor": 5
}
