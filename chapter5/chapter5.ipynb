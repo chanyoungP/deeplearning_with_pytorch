{
 "cells": [
  {
   "cell_type": "markdown",
   "id": "e1741cb4",
   "metadata": {},
   "source": [
    "## 딥러닝 파이토치 교과서 Chapter 5 실습 코드\n",
    "## 5장 CNN(합성곱 신경망)\n"
   ]
  },
  {
   "cell_type": "markdown",
   "id": "6a5be843",
   "metadata": {},
   "source": [
    "### 5.2 합성곱 신경망 맛보기 \n",
    "### fashion_mnist Data set "
   ]
  },
  {
   "cell_type": "code",
   "execution_count": null,
   "id": "04e3e528",
   "metadata": {},
   "outputs": [],
   "source": []
  }
 ],
 "metadata": {
  "kernelspec": {
   "display_name": "nas_env",
   "language": "python",
   "name": "nas_env"
  },
  "language_info": {
   "codemirror_mode": {
    "name": "ipython",
    "version": 3
   },
   "file_extension": ".py",
   "mimetype": "text/x-python",
   "name": "python",
   "nbconvert_exporter": "python",
   "pygments_lexer": "ipython3",
   "version": "3.7.2"
  }
 },
 "nbformat": 4,
 "nbformat_minor": 5
}
